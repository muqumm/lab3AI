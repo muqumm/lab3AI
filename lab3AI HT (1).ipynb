{
 "cells": [
  {
   "cell_type": "code",
   "execution_count": 1,
   "id": "56d3d7db-db02-4a35-add7-b4f3dbd2f9f4",
   "metadata": {},
   "outputs": [],
   "source": [
    "import numpy as np\n",
    "import pandas as pd\n",
    "from sklearn.model_selection import train_test_split\n",
    "from sklearn.preprocessing import LabelEncoder, StandardScaler\n",
    "from sklearn.neighbors import KNeighborsClassifier\n",
    "from sklearn.metrics import confusion_matrix, accuracy_score"
   ]
  },
  {
   "cell_type": "code",
   "execution_count": 2,
   "id": "901f1a53-332c-4324-933a-aac9b852be56",
   "metadata": {},
   "outputs": [],
   "source": [
    "data = {\n",
    "    'Name of Country': ['China', 'US', 'India', 'Japan', 'Germany', 'Brazil', 'Indonesia', 'Russia', 'UK', 'France'],\n",
    "    'Country_wise_plastic_waste': [59.05, 42.02, 26.33, 7.99, 6.28, 5.96, 5.85, 5.84, 5.03, 4.98],\n",
    "    'Main_source': ['Packaging_Industrial', 'Packaging_consumer', 'Consumer_goods', 'Packaging_Electronics', \n",
    "                    'Automotive_Packaging', 'Consumer_Packaging', 'Food_Packaging', 'Industrial_Consumer', \n",
    "                    'Packaging_consumer', 'Packaging_consumer'],\n",
    "    'Recycling_Rate': [29.8, 32.1, 11.5, 84.8, 56.1, 1.2, 11.8, 5.6, 46.2, 27.3],\n",
    "    'Per_capital_waste': [41.2, 127.5, 19.3, 63.2, 75.6, 28.1, 21.3, 40.2, 74.3, 73.1],\n",
    "    'Coastal_Waste': ['High', 'Medium', 'High', 'Medium', 'Low', 'Medium', 'Very_High', 'Medium', 'Low', 'Low']\n",
    "}\n",
    "\n",
    "df = pd.DataFrame(data)"
   ]
  },
  {
   "cell_type": "code",
   "execution_count": 3,
   "id": "e279dd13-1ea1-4f0f-8e9c-e0b307261bdc",
   "metadata": {},
   "outputs": [],
   "source": [
    "le = LabelEncoder()\n",
    "df['Main_source'] = le.fit_transform(df['Main_source'])\n",
    "df['Coastal_Waste'] = le.fit_transform(df['Coastal_Waste'])\n"
   ]
  },
  {
   "cell_type": "code",
   "execution_count": 4,
   "id": "4b684ed7-dc01-4dcd-9da9-c480a4bee299",
   "metadata": {},
   "outputs": [],
   "source": [
    "X = df[['Country_wise_plastic_waste', 'Main_source', 'Recycling_Rate', 'Per_capital_waste']]\n",
    "y = df['Coastal_Waste']"
   ]
  },
  {
   "cell_type": "code",
   "execution_count": 5,
   "id": "6c32a435-37ea-4289-b16c-c94adf29dbb0",
   "metadata": {},
   "outputs": [],
   "source": [
    "X_train, X_test, y_train, y_test = train_test_split(X, y, test_size=0.2, random_state=42)"
   ]
  },
  {
   "cell_type": "code",
   "execution_count": 6,
   "id": "7978332e-bc9f-4a66-bd98-5d9b37d1b5d3",
   "metadata": {},
   "outputs": [],
   "source": [
    "scaler = StandardScaler()\n",
    "X_train = scaler.fit_transform(X_train)\n",
    "X_test = scaler.transform(X_test)"
   ]
  },
  {
   "cell_type": "code",
   "execution_count": 7,
   "id": "354b31c3-2f73-4146-bdd5-c9770db21169",
   "metadata": {},
   "outputs": [
    {
     "data": {
      "text/html": [
       "<style>#sk-container-id-1 {color: black;background-color: white;}#sk-container-id-1 pre{padding: 0;}#sk-container-id-1 div.sk-toggleable {background-color: white;}#sk-container-id-1 label.sk-toggleable__label {cursor: pointer;display: block;width: 100%;margin-bottom: 0;padding: 0.3em;box-sizing: border-box;text-align: center;}#sk-container-id-1 label.sk-toggleable__label-arrow:before {content: \"▸\";float: left;margin-right: 0.25em;color: #696969;}#sk-container-id-1 label.sk-toggleable__label-arrow:hover:before {color: black;}#sk-container-id-1 div.sk-estimator:hover label.sk-toggleable__label-arrow:before {color: black;}#sk-container-id-1 div.sk-toggleable__content {max-height: 0;max-width: 0;overflow: hidden;text-align: left;background-color: #f0f8ff;}#sk-container-id-1 div.sk-toggleable__content pre {margin: 0.2em;color: black;border-radius: 0.25em;background-color: #f0f8ff;}#sk-container-id-1 input.sk-toggleable__control:checked~div.sk-toggleable__content {max-height: 200px;max-width: 100%;overflow: auto;}#sk-container-id-1 input.sk-toggleable__control:checked~label.sk-toggleable__label-arrow:before {content: \"▾\";}#sk-container-id-1 div.sk-estimator input.sk-toggleable__control:checked~label.sk-toggleable__label {background-color: #d4ebff;}#sk-container-id-1 div.sk-label input.sk-toggleable__control:checked~label.sk-toggleable__label {background-color: #d4ebff;}#sk-container-id-1 input.sk-hidden--visually {border: 0;clip: rect(1px 1px 1px 1px);clip: rect(1px, 1px, 1px, 1px);height: 1px;margin: -1px;overflow: hidden;padding: 0;position: absolute;width: 1px;}#sk-container-id-1 div.sk-estimator {font-family: monospace;background-color: #f0f8ff;border: 1px dotted black;border-radius: 0.25em;box-sizing: border-box;margin-bottom: 0.5em;}#sk-container-id-1 div.sk-estimator:hover {background-color: #d4ebff;}#sk-container-id-1 div.sk-parallel-item::after {content: \"\";width: 100%;border-bottom: 1px solid gray;flex-grow: 1;}#sk-container-id-1 div.sk-label:hover label.sk-toggleable__label {background-color: #d4ebff;}#sk-container-id-1 div.sk-serial::before {content: \"\";position: absolute;border-left: 1px solid gray;box-sizing: border-box;top: 0;bottom: 0;left: 50%;z-index: 0;}#sk-container-id-1 div.sk-serial {display: flex;flex-direction: column;align-items: center;background-color: white;padding-right: 0.2em;padding-left: 0.2em;position: relative;}#sk-container-id-1 div.sk-item {position: relative;z-index: 1;}#sk-container-id-1 div.sk-parallel {display: flex;align-items: stretch;justify-content: center;background-color: white;position: relative;}#sk-container-id-1 div.sk-item::before, #sk-container-id-1 div.sk-parallel-item::before {content: \"\";position: absolute;border-left: 1px solid gray;box-sizing: border-box;top: 0;bottom: 0;left: 50%;z-index: -1;}#sk-container-id-1 div.sk-parallel-item {display: flex;flex-direction: column;z-index: 1;position: relative;background-color: white;}#sk-container-id-1 div.sk-parallel-item:first-child::after {align-self: flex-end;width: 50%;}#sk-container-id-1 div.sk-parallel-item:last-child::after {align-self: flex-start;width: 50%;}#sk-container-id-1 div.sk-parallel-item:only-child::after {width: 0;}#sk-container-id-1 div.sk-dashed-wrapped {border: 1px dashed gray;margin: 0 0.4em 0.5em 0.4em;box-sizing: border-box;padding-bottom: 0.4em;background-color: white;}#sk-container-id-1 div.sk-label label {font-family: monospace;font-weight: bold;display: inline-block;line-height: 1.2em;}#sk-container-id-1 div.sk-label-container {text-align: center;}#sk-container-id-1 div.sk-container {/* jupyter's `normalize.less` sets `[hidden] { display: none; }` but bootstrap.min.css set `[hidden] { display: none !important; }` so we also need the `!important` here to be able to override the default hidden behavior on the sphinx rendered scikit-learn.org. See: https://github.com/scikit-learn/scikit-learn/issues/21755 */display: inline-block !important;position: relative;}#sk-container-id-1 div.sk-text-repr-fallback {display: none;}</style><div id=\"sk-container-id-1\" class=\"sk-top-container\"><div class=\"sk-text-repr-fallback\"><pre>KNeighborsClassifier(n_neighbors=3)</pre><b>In a Jupyter environment, please rerun this cell to show the HTML representation or trust the notebook. <br />On GitHub, the HTML representation is unable to render, please try loading this page with nbviewer.org.</b></div><div class=\"sk-container\" hidden><div class=\"sk-item\"><div class=\"sk-estimator sk-toggleable\"><input class=\"sk-toggleable__control sk-hidden--visually\" id=\"sk-estimator-id-1\" type=\"checkbox\" checked><label for=\"sk-estimator-id-1\" class=\"sk-toggleable__label sk-toggleable__label-arrow\">KNeighborsClassifier</label><div class=\"sk-toggleable__content\"><pre>KNeighborsClassifier(n_neighbors=3)</pre></div></div></div></div></div>"
      ],
      "text/plain": [
       "KNeighborsClassifier(n_neighbors=3)"
      ]
     },
     "execution_count": 7,
     "metadata": {},
     "output_type": "execute_result"
    }
   ],
   "source": [
    "knn = KNeighborsClassifier(n_neighbors=3)  \n",
    "knn.fit(X_train, y_train)"
   ]
  },
  {
   "cell_type": "code",
   "execution_count": 8,
   "id": "10c0ef02-71e4-4ccf-8e05-480426e6b906",
   "metadata": {},
   "outputs": [],
   "source": [
    "y_pred = knn.predict(X_test)"
   ]
  },
  {
   "cell_type": "code",
   "execution_count": 9,
   "id": "e354c798-d23b-4c8c-8355-7ae62eaa390a",
   "metadata": {},
   "outputs": [],
   "source": [
    "accuracy = accuracy_score(y_test, y_pred)\n",
    "conf_matrix = confusion_matrix(y_test, y_pred)\n",
    "\n"
   ]
  },
  {
   "cell_type": "code",
   "execution_count": 10,
   "id": "72a6a401-4db5-40b4-8764-c7d14e512740",
   "metadata": {},
   "outputs": [
    {
     "name": "stdout",
     "output_type": "stream",
     "text": [
      "Accuracy: 0.0\n",
      "Confusion Matrix:\n",
      " [[0 0 0]\n",
      " [0 0 1]\n",
      " [1 0 0]]\n"
     ]
    }
   ],
   "source": [
    "print(\"Accuracy:\", accuracy)\n",
    "print(\"Confusion Matrix:\\n\", conf_matrix)"
   ]
  },
  {
   "cell_type": "code",
   "execution_count": 11,
   "id": "f93dd132-7c94-41d4-a867-65019dd2d1d6",
   "metadata": {},
   "outputs": [
    {
     "name": "stdout",
     "output_type": "stream",
     "text": [
      "Predicted Coastal Waste Categories: ['Medium' 'High']\n"
     ]
    }
   ],
   "source": [
    "y_pred_labels = le.inverse_transform(y_pred)\n",
    "print(\"Predicted Coastal Waste Categories:\", y_pred_labels)"
   ]
  },
  {
   "cell_type": "code",
   "execution_count": null,
   "id": "9896ea0e-d5e2-4d62-b89a-8f2e44918617",
   "metadata": {},
   "outputs": [],
   "source": [
    "from sklearn import preprocessing\n",
    "from sklearn.neighbors import KNeighborsClassifier\n",
    "from sklearn.metrics import confusion_matrix, accuracy_score\n",
    "from sklearn.model_selection import train_test_split\n",
    "\n",
    "# Data\n",
    "Weather = ['Sunny', 'Sunny', 'Overcast', 'Rainy', 'Rainy', 'Rainy', 'Overcast', 'Sunny', 'Sunny', 'Rainy', 'Sunny', 'Overcast', 'Overcast', 'Rainy'] \n",
    "Temperature = ['Hot', 'Hot', 'Hot', 'Mild', 'Cold', 'Cold', 'Cold', 'Mild', 'Cold', 'Mild', 'Mild', 'Mild', 'Hot', 'Mild']\n",
    "Play = ['No', 'No', 'Yes', 'Yes', 'Yes', 'No', 'Yes', 'No', 'Yes', 'Yes', 'Yes', 'Yes', 'No']\n",
    "\n",
    "# Creating labelEncoder\n",
    "le = preprocessing.LabelEncoder()\n",
    "\n",
    "# Converting string into numbers for features\n",
    "Weather_encoded = le.fit_transform(Weather)\n",
    "Temperature_encoded = le.fit_transform(Temperature)\n",
    "\n",
    "# Converting string into numbers for target variable\n",
    "Play_encoded = le.fit_transform(Play)\n",
    "\n",
    "# Creating features by zipping the encoded features\n",
    "features = list(zip(Weather_encoded, Temperature_encoded))\n",
    "\n",
    "# Splitting the dataset into training and testing sets\n",
    "features_train, features_test, label_train, label_test = train_test_split(features, Play_encoded, test_size=0.2, random_state=42)\n",
    "\n",
    "# Creating and training the KNN model\n",
    "model = KNeighborsClassifier(n_neighbors=3, metric='euclidean')\n",
    "model.fit(features_train, label_train)\n",
    "\n",
    "# Making predictions\n",
    "predicted = model.predict(features_test)\n",
    "\n",
    "# Output predictions\n",
    "print(\"Prediction:\", predicted)\n",
    "\n",
    "# Confusion Matrix\n",
    "conf_mat = confusion_matrix(label_test, predicted)\n",
    "print(\"Confusion Matrix:\")\n",
    "print(conf_mat)\n",
    "\n",
    "# Accuracy\n",
    "accuracy = accuracy_score(label_test, predicted)\n",
    "print(\"Accuracy:\", accuracy)"
   ]
  },
  {
   "cell_type": "code",
   "execution_count": 4,
   "id": "320d476c-79c0-400b-b3f3-f80873afed26",
   "metadata": {},
   "outputs": [
    {
     "name": "stdout",
     "output_type": "stream",
     "text": [
      "Predication: Good\n"
     ]
    }
   ],
   "source": [
    "import numpy as np\n",
    "train_points =np.array([[7,7],[7,4],[3,4],[1,4]])\n",
    "train_labels=['Bad','Bad','Good','Good']\n",
    "query_point=np.array([3,7])\n",
    "distances= np.linalg.norm(train_points - query_point, axis=1)\n",
    "nearest_indices = distances.argsort()[:3]\n",
    "nearest_labels =[train_labels[i] for i in nearest_indices]\n",
    "prediction = max(set(nearest_labels), key=nearest_labels.count)\n",
    "print(\"Predication:\",prediction)\n"
   ]
  },
  {
   "cell_type": "code",
   "execution_count": null,
   "id": "45bf0d94-1405-4d11-9b2b-671dc381a806",
   "metadata": {},
   "outputs": [],
   "source": []
  }
 ],
 "metadata": {
  "kernelspec": {
   "display_name": "Python 3 (ipykernel)",
   "language": "python",
   "name": "python3"
  },
  "language_info": {
   "codemirror_mode": {
    "name": "ipython",
    "version": 3
   },
   "file_extension": ".py",
   "mimetype": "text/x-python",
   "name": "python",
   "nbconvert_exporter": "python",
   "pygments_lexer": "ipython3",
   "version": "3.11.7"
  }
 },
 "nbformat": 4,
 "nbformat_minor": 5
}
